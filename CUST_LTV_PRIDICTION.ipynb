{
 "cells": [
  {
   "cell_type": "markdown",
   "id": "c98da075-7c48-404b-916b-556cc22f88ec",
   "metadata": {},
   "source": [
    "# IMPORTING"
   ]
  },
  {
   "cell_type": "code",
   "execution_count": 51,
   "id": "d07cb409-a041-4817-b833-b425bf19978d",
   "metadata": {},
   "outputs": [],
   "source": [
    "import numpy as np\n",
    "import pandas as pd\n",
    "import seaborn as sns \n",
    "import matplotlib.pyplot as plt\n",
    "from sklearn.model_selection import train_test_split\n",
    "from sklearn.linear_model import LinearRegression\n",
    "from sklearn.ensemble import RandomForestRegressor\n",
    "from xgboost import XGBRegressor\n",
    "from sklearn.metrics import mean_absolute_error, mean_squared_error\n"
   ]
  },
  {
   "cell_type": "markdown",
   "id": "9cda3d94-89ba-48ab-8927-02d64ce97be8",
   "metadata": {},
   "source": [
    "# LOAD DATA"
   ]
  },
  {
   "cell_type": "code",
   "execution_count": 3,
   "id": "72f72112-cb06-4e6e-8efb-6a1be4be59c4",
   "metadata": {},
   "outputs": [],
   "source": [
    "df=pd.read_csv(\"transactions.csv\")"
   ]
  },
  {
   "cell_type": "code",
   "execution_count": 5,
   "id": "0899d3d1-db9d-4bbe-8ac4-b7bb1765dbf7",
   "metadata": {},
   "outputs": [
    {
     "data": {
      "text/html": [
       "<div>\n",
       "<style scoped>\n",
       "    .dataframe tbody tr th:only-of-type {\n",
       "        vertical-align: middle;\n",
       "    }\n",
       "\n",
       "    .dataframe tbody tr th {\n",
       "        vertical-align: top;\n",
       "    }\n",
       "\n",
       "    .dataframe thead th {\n",
       "        text-align: right;\n",
       "    }\n",
       "</style>\n",
       "<table border=\"1\" class=\"dataframe\">\n",
       "  <thead>\n",
       "    <tr style=\"text-align: right;\">\n",
       "      <th></th>\n",
       "      <th>Customer_ID</th>\n",
       "      <th>Order_ID</th>\n",
       "      <th>Order_Date</th>\n",
       "      <th>Order_Amount</th>\n",
       "    </tr>\n",
       "  </thead>\n",
       "  <tbody>\n",
       "    <tr>\n",
       "      <th>0</th>\n",
       "      <td>C001</td>\n",
       "      <td>O1001</td>\n",
       "      <td>2024-01-10</td>\n",
       "      <td>200</td>\n",
       "    </tr>\n",
       "    <tr>\n",
       "      <th>1</th>\n",
       "      <td>C001</td>\n",
       "      <td>O1002</td>\n",
       "      <td>2024-03-15</td>\n",
       "      <td>300</td>\n",
       "    </tr>\n",
       "    <tr>\n",
       "      <th>2</th>\n",
       "      <td>C002</td>\n",
       "      <td>O1003</td>\n",
       "      <td>2024-01-20</td>\n",
       "      <td>150</td>\n",
       "    </tr>\n",
       "    <tr>\n",
       "      <th>3</th>\n",
       "      <td>C002</td>\n",
       "      <td>O1004</td>\n",
       "      <td>2024-02-20</td>\n",
       "      <td>250</td>\n",
       "    </tr>\n",
       "    <tr>\n",
       "      <th>4</th>\n",
       "      <td>C003</td>\n",
       "      <td>O1005</td>\n",
       "      <td>2024-03-01</td>\n",
       "      <td>400</td>\n",
       "    </tr>\n",
       "    <tr>\n",
       "      <th>5</th>\n",
       "      <td>C004</td>\n",
       "      <td>O1006</td>\n",
       "      <td>2024-01-05</td>\n",
       "      <td>100</td>\n",
       "    </tr>\n",
       "    <tr>\n",
       "      <th>6</th>\n",
       "      <td>C004</td>\n",
       "      <td>O1007</td>\n",
       "      <td>2024-01-20</td>\n",
       "      <td>120</td>\n",
       "    </tr>\n",
       "    <tr>\n",
       "      <th>7</th>\n",
       "      <td>C004</td>\n",
       "      <td>O1008</td>\n",
       "      <td>2024-03-01</td>\n",
       "      <td>130</td>\n",
       "    </tr>\n",
       "    <tr>\n",
       "      <th>8</th>\n",
       "      <td>C005</td>\n",
       "      <td>O1009</td>\n",
       "      <td>2024-02-01</td>\n",
       "      <td>180</td>\n",
       "    </tr>\n",
       "    <tr>\n",
       "      <th>9</th>\n",
       "      <td>C005</td>\n",
       "      <td>O1010</td>\n",
       "      <td>2024-03-10</td>\n",
       "      <td>170</td>\n",
       "    </tr>\n",
       "  </tbody>\n",
       "</table>\n",
       "</div>"
      ],
      "text/plain": [
       "  Customer_ID Order_ID  Order_Date  Order_Amount\n",
       "0        C001    O1001  2024-01-10           200\n",
       "1        C001    O1002  2024-03-15           300\n",
       "2        C002    O1003  2024-01-20           150\n",
       "3        C002    O1004  2024-02-20           250\n",
       "4        C003    O1005  2024-03-01           400\n",
       "5        C004    O1006  2024-01-05           100\n",
       "6        C004    O1007  2024-01-20           120\n",
       "7        C004    O1008  2024-03-01           130\n",
       "8        C005    O1009  2024-02-01           180\n",
       "9        C005    O1010  2024-03-10           170"
      ]
     },
     "execution_count": 5,
     "metadata": {},
     "output_type": "execute_result"
    }
   ],
   "source": [
    "df"
   ]
  },
  {
   "cell_type": "markdown",
   "id": "3fd81c17-f82f-470e-80ec-68263f37152b",
   "metadata": {},
   "source": [
    "# EXPLORE DATA"
   ]
  },
  {
   "cell_type": "code",
   "execution_count": 67,
   "id": "56bbf338-cae8-425e-85cf-364c8382730f",
   "metadata": {},
   "outputs": [
    {
     "data": {
      "text/plain": [
       "Index(['Customer_ID', 'Order_ID', 'Order_Date', 'Order_Amount'], dtype='object')"
      ]
     },
     "execution_count": 67,
     "metadata": {},
     "output_type": "execute_result"
    }
   ],
   "source": [
    "df.columns"
   ]
  },
  {
   "cell_type": "code",
   "execution_count": 69,
   "id": "460d5a62-45ef-407c-8ce1-3e30ed141129",
   "metadata": {},
   "outputs": [
    {
     "name": "stdout",
     "output_type": "stream",
     "text": [
      "<class 'pandas.core.frame.DataFrame'>\n",
      "RangeIndex: 10 entries, 0 to 9\n",
      "Data columns (total 4 columns):\n",
      " #   Column        Non-Null Count  Dtype         \n",
      "---  ------        --------------  -----         \n",
      " 0   Customer_ID   10 non-null     object        \n",
      " 1   Order_ID      10 non-null     object        \n",
      " 2   Order_Date    10 non-null     datetime64[ns]\n",
      " 3   Order_Amount  10 non-null     int64         \n",
      "dtypes: datetime64[ns](1), int64(1), object(2)\n",
      "memory usage: 452.0+ bytes\n"
     ]
    }
   ],
   "source": [
    "df.info()"
   ]
  },
  {
   "cell_type": "code",
   "execution_count": 61,
   "id": "b51d17a7-c48a-40ff-8719-a593f48c2301",
   "metadata": {},
   "outputs": [
    {
     "data": {
      "text/html": [
       "<div>\n",
       "<style scoped>\n",
       "    .dataframe tbody tr th:only-of-type {\n",
       "        vertical-align: middle;\n",
       "    }\n",
       "\n",
       "    .dataframe tbody tr th {\n",
       "        vertical-align: top;\n",
       "    }\n",
       "\n",
       "    .dataframe thead th {\n",
       "        text-align: right;\n",
       "    }\n",
       "</style>\n",
       "<table border=\"1\" class=\"dataframe\">\n",
       "  <thead>\n",
       "    <tr style=\"text-align: right;\">\n",
       "      <th></th>\n",
       "      <th>Customer_ID</th>\n",
       "      <th>Order_ID</th>\n",
       "      <th>Order_Date</th>\n",
       "      <th>Order_Amount</th>\n",
       "    </tr>\n",
       "  </thead>\n",
       "  <tbody>\n",
       "    <tr>\n",
       "      <th>0</th>\n",
       "      <td>C001</td>\n",
       "      <td>O1001</td>\n",
       "      <td>2024-01-10</td>\n",
       "      <td>200</td>\n",
       "    </tr>\n",
       "    <tr>\n",
       "      <th>1</th>\n",
       "      <td>C001</td>\n",
       "      <td>O1002</td>\n",
       "      <td>2024-03-15</td>\n",
       "      <td>300</td>\n",
       "    </tr>\n",
       "    <tr>\n",
       "      <th>2</th>\n",
       "      <td>C002</td>\n",
       "      <td>O1003</td>\n",
       "      <td>2024-01-20</td>\n",
       "      <td>150</td>\n",
       "    </tr>\n",
       "    <tr>\n",
       "      <th>3</th>\n",
       "      <td>C002</td>\n",
       "      <td>O1004</td>\n",
       "      <td>2024-02-20</td>\n",
       "      <td>250</td>\n",
       "    </tr>\n",
       "    <tr>\n",
       "      <th>4</th>\n",
       "      <td>C003</td>\n",
       "      <td>O1005</td>\n",
       "      <td>2024-03-01</td>\n",
       "      <td>400</td>\n",
       "    </tr>\n",
       "  </tbody>\n",
       "</table>\n",
       "</div>"
      ],
      "text/plain": [
       "  Customer_ID Order_ID Order_Date  Order_Amount\n",
       "0        C001    O1001 2024-01-10           200\n",
       "1        C001    O1002 2024-03-15           300\n",
       "2        C002    O1003 2024-01-20           150\n",
       "3        C002    O1004 2024-02-20           250\n",
       "4        C003    O1005 2024-03-01           400"
      ]
     },
     "execution_count": 61,
     "metadata": {},
     "output_type": "execute_result"
    }
   ],
   "source": [
    "df.head()"
   ]
  },
  {
   "cell_type": "code",
   "execution_count": 63,
   "id": "5c270d86-dcfb-44e5-af3e-1bbd875d911d",
   "metadata": {
    "scrolled": true
   },
   "outputs": [
    {
     "data": {
      "text/html": [
       "<div>\n",
       "<style scoped>\n",
       "    .dataframe tbody tr th:only-of-type {\n",
       "        vertical-align: middle;\n",
       "    }\n",
       "\n",
       "    .dataframe tbody tr th {\n",
       "        vertical-align: top;\n",
       "    }\n",
       "\n",
       "    .dataframe thead th {\n",
       "        text-align: right;\n",
       "    }\n",
       "</style>\n",
       "<table border=\"1\" class=\"dataframe\">\n",
       "  <thead>\n",
       "    <tr style=\"text-align: right;\">\n",
       "      <th></th>\n",
       "      <th>Customer_ID</th>\n",
       "      <th>Order_ID</th>\n",
       "      <th>Order_Date</th>\n",
       "      <th>Order_Amount</th>\n",
       "    </tr>\n",
       "  </thead>\n",
       "  <tbody>\n",
       "    <tr>\n",
       "      <th>5</th>\n",
       "      <td>C004</td>\n",
       "      <td>O1006</td>\n",
       "      <td>2024-01-05</td>\n",
       "      <td>100</td>\n",
       "    </tr>\n",
       "    <tr>\n",
       "      <th>6</th>\n",
       "      <td>C004</td>\n",
       "      <td>O1007</td>\n",
       "      <td>2024-01-20</td>\n",
       "      <td>120</td>\n",
       "    </tr>\n",
       "    <tr>\n",
       "      <th>7</th>\n",
       "      <td>C004</td>\n",
       "      <td>O1008</td>\n",
       "      <td>2024-03-01</td>\n",
       "      <td>130</td>\n",
       "    </tr>\n",
       "    <tr>\n",
       "      <th>8</th>\n",
       "      <td>C005</td>\n",
       "      <td>O1009</td>\n",
       "      <td>2024-02-01</td>\n",
       "      <td>180</td>\n",
       "    </tr>\n",
       "    <tr>\n",
       "      <th>9</th>\n",
       "      <td>C005</td>\n",
       "      <td>O1010</td>\n",
       "      <td>2024-03-10</td>\n",
       "      <td>170</td>\n",
       "    </tr>\n",
       "  </tbody>\n",
       "</table>\n",
       "</div>"
      ],
      "text/plain": [
       "  Customer_ID Order_ID Order_Date  Order_Amount\n",
       "5        C004    O1006 2024-01-05           100\n",
       "6        C004    O1007 2024-01-20           120\n",
       "7        C004    O1008 2024-03-01           130\n",
       "8        C005    O1009 2024-02-01           180\n",
       "9        C005    O1010 2024-03-10           170"
      ]
     },
     "execution_count": 63,
     "metadata": {},
     "output_type": "execute_result"
    }
   ],
   "source": [
    "df.tail()"
   ]
  },
  {
   "cell_type": "code",
   "execution_count": 65,
   "id": "94fb81cb-3a68-4533-b753-3fef6588f749",
   "metadata": {},
   "outputs": [
    {
     "data": {
      "text/html": [
       "<div>\n",
       "<style scoped>\n",
       "    .dataframe tbody tr th:only-of-type {\n",
       "        vertical-align: middle;\n",
       "    }\n",
       "\n",
       "    .dataframe tbody tr th {\n",
       "        vertical-align: top;\n",
       "    }\n",
       "\n",
       "    .dataframe thead th {\n",
       "        text-align: right;\n",
       "    }\n",
       "</style>\n",
       "<table border=\"1\" class=\"dataframe\">\n",
       "  <thead>\n",
       "    <tr style=\"text-align: right;\">\n",
       "      <th></th>\n",
       "      <th>Customer_ID</th>\n",
       "      <th>Order_ID</th>\n",
       "      <th>Order_Date</th>\n",
       "      <th>Order_Amount</th>\n",
       "    </tr>\n",
       "  </thead>\n",
       "  <tbody>\n",
       "    <tr>\n",
       "      <th>6</th>\n",
       "      <td>C004</td>\n",
       "      <td>O1007</td>\n",
       "      <td>2024-01-20</td>\n",
       "      <td>120</td>\n",
       "    </tr>\n",
       "  </tbody>\n",
       "</table>\n",
       "</div>"
      ],
      "text/plain": [
       "  Customer_ID Order_ID Order_Date  Order_Amount\n",
       "6        C004    O1007 2024-01-20           120"
      ]
     },
     "execution_count": 65,
     "metadata": {},
     "output_type": "execute_result"
    }
   ],
   "source": [
    "df.sample()"
   ]
  },
  {
   "cell_type": "markdown",
   "id": "ab92438a-0914-4dd2-acfc-4de3415cdeb9",
   "metadata": {},
   "source": [
    "# PRE PROCESSING"
   ]
  },
  {
   "cell_type": "code",
   "execution_count": 73,
   "id": "b3e21b67-3038-4ff0-970f-6eadbf18dfa1",
   "metadata": {},
   "outputs": [
    {
     "data": {
      "text/html": [
       "<div>\n",
       "<style scoped>\n",
       "    .dataframe tbody tr th:only-of-type {\n",
       "        vertical-align: middle;\n",
       "    }\n",
       "\n",
       "    .dataframe tbody tr th {\n",
       "        vertical-align: top;\n",
       "    }\n",
       "\n",
       "    .dataframe thead th {\n",
       "        text-align: right;\n",
       "    }\n",
       "</style>\n",
       "<table border=\"1\" class=\"dataframe\">\n",
       "  <thead>\n",
       "    <tr style=\"text-align: right;\">\n",
       "      <th></th>\n",
       "      <th>Customer_ID</th>\n",
       "      <th>Order_ID</th>\n",
       "      <th>Order_Date</th>\n",
       "      <th>Order_Amount</th>\n",
       "    </tr>\n",
       "  </thead>\n",
       "  <tbody>\n",
       "    <tr>\n",
       "      <th>0</th>\n",
       "      <td>False</td>\n",
       "      <td>False</td>\n",
       "      <td>False</td>\n",
       "      <td>False</td>\n",
       "    </tr>\n",
       "    <tr>\n",
       "      <th>1</th>\n",
       "      <td>False</td>\n",
       "      <td>False</td>\n",
       "      <td>False</td>\n",
       "      <td>False</td>\n",
       "    </tr>\n",
       "    <tr>\n",
       "      <th>2</th>\n",
       "      <td>False</td>\n",
       "      <td>False</td>\n",
       "      <td>False</td>\n",
       "      <td>False</td>\n",
       "    </tr>\n",
       "    <tr>\n",
       "      <th>3</th>\n",
       "      <td>False</td>\n",
       "      <td>False</td>\n",
       "      <td>False</td>\n",
       "      <td>False</td>\n",
       "    </tr>\n",
       "    <tr>\n",
       "      <th>4</th>\n",
       "      <td>False</td>\n",
       "      <td>False</td>\n",
       "      <td>False</td>\n",
       "      <td>False</td>\n",
       "    </tr>\n",
       "    <tr>\n",
       "      <th>5</th>\n",
       "      <td>False</td>\n",
       "      <td>False</td>\n",
       "      <td>False</td>\n",
       "      <td>False</td>\n",
       "    </tr>\n",
       "    <tr>\n",
       "      <th>6</th>\n",
       "      <td>False</td>\n",
       "      <td>False</td>\n",
       "      <td>False</td>\n",
       "      <td>False</td>\n",
       "    </tr>\n",
       "    <tr>\n",
       "      <th>7</th>\n",
       "      <td>False</td>\n",
       "      <td>False</td>\n",
       "      <td>False</td>\n",
       "      <td>False</td>\n",
       "    </tr>\n",
       "    <tr>\n",
       "      <th>8</th>\n",
       "      <td>False</td>\n",
       "      <td>False</td>\n",
       "      <td>False</td>\n",
       "      <td>False</td>\n",
       "    </tr>\n",
       "    <tr>\n",
       "      <th>9</th>\n",
       "      <td>False</td>\n",
       "      <td>False</td>\n",
       "      <td>False</td>\n",
       "      <td>False</td>\n",
       "    </tr>\n",
       "  </tbody>\n",
       "</table>\n",
       "</div>"
      ],
      "text/plain": [
       "   Customer_ID  Order_ID  Order_Date  Order_Amount\n",
       "0        False     False       False         False\n",
       "1        False     False       False         False\n",
       "2        False     False       False         False\n",
       "3        False     False       False         False\n",
       "4        False     False       False         False\n",
       "5        False     False       False         False\n",
       "6        False     False       False         False\n",
       "7        False     False       False         False\n",
       "8        False     False       False         False\n",
       "9        False     False       False         False"
      ]
     },
     "execution_count": 73,
     "metadata": {},
     "output_type": "execute_result"
    }
   ],
   "source": [
    "df.isnull()"
   ]
  },
  {
   "cell_type": "code",
   "execution_count": 75,
   "id": "320bfb6e-ad44-4d29-b753-eccd7e2f1410",
   "metadata": {},
   "outputs": [
    {
     "data": {
      "text/plain": [
       "Customer_ID     0\n",
       "Order_ID        0\n",
       "Order_Date      0\n",
       "Order_Amount    0\n",
       "dtype: int64"
      ]
     },
     "execution_count": 75,
     "metadata": {},
     "output_type": "execute_result"
    }
   ],
   "source": [
    "df.isnull().sum()"
   ]
  },
  {
   "cell_type": "code",
   "execution_count": 77,
   "id": "6f00876a-299d-4ae7-8186-44f256cfbf90",
   "metadata": {},
   "outputs": [
    {
     "data": {
      "text/html": [
       "<div>\n",
       "<style scoped>\n",
       "    .dataframe tbody tr th:only-of-type {\n",
       "        vertical-align: middle;\n",
       "    }\n",
       "\n",
       "    .dataframe tbody tr th {\n",
       "        vertical-align: top;\n",
       "    }\n",
       "\n",
       "    .dataframe thead th {\n",
       "        text-align: right;\n",
       "    }\n",
       "</style>\n",
       "<table border=\"1\" class=\"dataframe\">\n",
       "  <thead>\n",
       "    <tr style=\"text-align: right;\">\n",
       "      <th></th>\n",
       "      <th>Customer_ID</th>\n",
       "      <th>Order_ID</th>\n",
       "      <th>Order_Date</th>\n",
       "      <th>Order_Amount</th>\n",
       "    </tr>\n",
       "  </thead>\n",
       "  <tbody>\n",
       "    <tr>\n",
       "      <th>0</th>\n",
       "      <td>True</td>\n",
       "      <td>True</td>\n",
       "      <td>True</td>\n",
       "      <td>True</td>\n",
       "    </tr>\n",
       "    <tr>\n",
       "      <th>1</th>\n",
       "      <td>True</td>\n",
       "      <td>True</td>\n",
       "      <td>True</td>\n",
       "      <td>True</td>\n",
       "    </tr>\n",
       "    <tr>\n",
       "      <th>2</th>\n",
       "      <td>True</td>\n",
       "      <td>True</td>\n",
       "      <td>True</td>\n",
       "      <td>True</td>\n",
       "    </tr>\n",
       "    <tr>\n",
       "      <th>3</th>\n",
       "      <td>True</td>\n",
       "      <td>True</td>\n",
       "      <td>True</td>\n",
       "      <td>True</td>\n",
       "    </tr>\n",
       "    <tr>\n",
       "      <th>4</th>\n",
       "      <td>True</td>\n",
       "      <td>True</td>\n",
       "      <td>True</td>\n",
       "      <td>True</td>\n",
       "    </tr>\n",
       "    <tr>\n",
       "      <th>5</th>\n",
       "      <td>True</td>\n",
       "      <td>True</td>\n",
       "      <td>True</td>\n",
       "      <td>True</td>\n",
       "    </tr>\n",
       "    <tr>\n",
       "      <th>6</th>\n",
       "      <td>True</td>\n",
       "      <td>True</td>\n",
       "      <td>True</td>\n",
       "      <td>True</td>\n",
       "    </tr>\n",
       "    <tr>\n",
       "      <th>7</th>\n",
       "      <td>True</td>\n",
       "      <td>True</td>\n",
       "      <td>True</td>\n",
       "      <td>True</td>\n",
       "    </tr>\n",
       "    <tr>\n",
       "      <th>8</th>\n",
       "      <td>True</td>\n",
       "      <td>True</td>\n",
       "      <td>True</td>\n",
       "      <td>True</td>\n",
       "    </tr>\n",
       "    <tr>\n",
       "      <th>9</th>\n",
       "      <td>True</td>\n",
       "      <td>True</td>\n",
       "      <td>True</td>\n",
       "      <td>True</td>\n",
       "    </tr>\n",
       "  </tbody>\n",
       "</table>\n",
       "</div>"
      ],
      "text/plain": [
       "   Customer_ID  Order_ID  Order_Date  Order_Amount\n",
       "0         True      True        True          True\n",
       "1         True      True        True          True\n",
       "2         True      True        True          True\n",
       "3         True      True        True          True\n",
       "4         True      True        True          True\n",
       "5         True      True        True          True\n",
       "6         True      True        True          True\n",
       "7         True      True        True          True\n",
       "8         True      True        True          True\n",
       "9         True      True        True          True"
      ]
     },
     "execution_count": 77,
     "metadata": {},
     "output_type": "execute_result"
    }
   ],
   "source": [
    "df.notnull()"
   ]
  },
  {
   "cell_type": "code",
   "execution_count": 79,
   "id": "9510e6e8-6c4e-4bb7-82fa-dcf40f5b27a9",
   "metadata": {},
   "outputs": [
    {
     "data": {
      "text/plain": [
       "Customer_ID     10\n",
       "Order_ID        10\n",
       "Order_Date      10\n",
       "Order_Amount    10\n",
       "dtype: int64"
      ]
     },
     "execution_count": 79,
     "metadata": {},
     "output_type": "execute_result"
    }
   ],
   "source": [
    "df.notnull().sum()"
   ]
  },
  {
   "cell_type": "code",
   "execution_count": 81,
   "id": "40bf4bc5-adaa-45a5-800b-984fcd3daa82",
   "metadata": {},
   "outputs": [
    {
     "data": {
      "text/html": [
       "<div>\n",
       "<style scoped>\n",
       "    .dataframe tbody tr th:only-of-type {\n",
       "        vertical-align: middle;\n",
       "    }\n",
       "\n",
       "    .dataframe tbody tr th {\n",
       "        vertical-align: top;\n",
       "    }\n",
       "\n",
       "    .dataframe thead th {\n",
       "        text-align: right;\n",
       "    }\n",
       "</style>\n",
       "<table border=\"1\" class=\"dataframe\">\n",
       "  <thead>\n",
       "    <tr style=\"text-align: right;\">\n",
       "      <th></th>\n",
       "      <th>Order_Date</th>\n",
       "      <th>Order_Amount</th>\n",
       "    </tr>\n",
       "  </thead>\n",
       "  <tbody>\n",
       "    <tr>\n",
       "      <th>count</th>\n",
       "      <td>10</td>\n",
       "      <td>10.000000</td>\n",
       "    </tr>\n",
       "    <tr>\n",
       "      <th>mean</th>\n",
       "      <td>2024-02-09 12:00:00</td>\n",
       "      <td>200.000000</td>\n",
       "    </tr>\n",
       "    <tr>\n",
       "      <th>min</th>\n",
       "      <td>2024-01-05 00:00:00</td>\n",
       "      <td>100.000000</td>\n",
       "    </tr>\n",
       "    <tr>\n",
       "      <th>25%</th>\n",
       "      <td>2024-01-20 00:00:00</td>\n",
       "      <td>135.000000</td>\n",
       "    </tr>\n",
       "    <tr>\n",
       "      <th>50%</th>\n",
       "      <td>2024-02-10 12:00:00</td>\n",
       "      <td>175.000000</td>\n",
       "    </tr>\n",
       "    <tr>\n",
       "      <th>75%</th>\n",
       "      <td>2024-03-01 00:00:00</td>\n",
       "      <td>237.500000</td>\n",
       "    </tr>\n",
       "    <tr>\n",
       "      <th>max</th>\n",
       "      <td>2024-03-15 00:00:00</td>\n",
       "      <td>400.000000</td>\n",
       "    </tr>\n",
       "    <tr>\n",
       "      <th>std</th>\n",
       "      <td>NaN</td>\n",
       "      <td>92.855922</td>\n",
       "    </tr>\n",
       "  </tbody>\n",
       "</table>\n",
       "</div>"
      ],
      "text/plain": [
       "                Order_Date  Order_Amount\n",
       "count                   10     10.000000\n",
       "mean   2024-02-09 12:00:00    200.000000\n",
       "min    2024-01-05 00:00:00    100.000000\n",
       "25%    2024-01-20 00:00:00    135.000000\n",
       "50%    2024-02-10 12:00:00    175.000000\n",
       "75%    2024-03-01 00:00:00    237.500000\n",
       "max    2024-03-15 00:00:00    400.000000\n",
       "std                    NaN     92.855922"
      ]
     },
     "execution_count": 81,
     "metadata": {},
     "output_type": "execute_result"
    }
   ],
   "source": [
    "df.describe()"
   ]
  },
  {
   "cell_type": "code",
   "execution_count": 83,
   "id": "29fb76a3-b7fa-441b-974d-9e4c8c2d3d5f",
   "metadata": {},
   "outputs": [
    {
     "data": {
      "text/html": [
       "<div>\n",
       "<style scoped>\n",
       "    .dataframe tbody tr th:only-of-type {\n",
       "        vertical-align: middle;\n",
       "    }\n",
       "\n",
       "    .dataframe tbody tr th {\n",
       "        vertical-align: top;\n",
       "    }\n",
       "\n",
       "    .dataframe thead th {\n",
       "        text-align: right;\n",
       "    }\n",
       "</style>\n",
       "<table border=\"1\" class=\"dataframe\">\n",
       "  <thead>\n",
       "    <tr style=\"text-align: right;\">\n",
       "      <th></th>\n",
       "      <th>Customer_ID</th>\n",
       "      <th>Order_ID</th>\n",
       "    </tr>\n",
       "  </thead>\n",
       "  <tbody>\n",
       "    <tr>\n",
       "      <th>count</th>\n",
       "      <td>10</td>\n",
       "      <td>10</td>\n",
       "    </tr>\n",
       "    <tr>\n",
       "      <th>unique</th>\n",
       "      <td>5</td>\n",
       "      <td>10</td>\n",
       "    </tr>\n",
       "    <tr>\n",
       "      <th>top</th>\n",
       "      <td>C004</td>\n",
       "      <td>O1001</td>\n",
       "    </tr>\n",
       "    <tr>\n",
       "      <th>freq</th>\n",
       "      <td>3</td>\n",
       "      <td>1</td>\n",
       "    </tr>\n",
       "  </tbody>\n",
       "</table>\n",
       "</div>"
      ],
      "text/plain": [
       "       Customer_ID Order_ID\n",
       "count           10       10\n",
       "unique           5       10\n",
       "top           C004    O1001\n",
       "freq             3        1"
      ]
     },
     "execution_count": 83,
     "metadata": {},
     "output_type": "execute_result"
    }
   ],
   "source": [
    "df.describe(include='object')"
   ]
  },
  {
   "cell_type": "markdown",
   "id": "9eac2df1-3255-446a-bb81-5ed7e6776217",
   "metadata": {},
   "source": [
    "# VISUALIZATION"
   ]
  },
  {
   "cell_type": "code",
   "execution_count": 85,
   "id": "4c5fdeea-3bb5-41d8-9458-04b92620e08c",
   "metadata": {},
   "outputs": [
    {
     "data": {
      "image/png": "[encoded data removed]",
      "text/plain": [
       "<Figure size 1000x600 with 1 Axes>"
      ]
     },
     "metadata": {},
     "output_type": "display_data"
    }
   ],
   "source": [
    "plt.figure(figsize=(10,6))\n",
    "sns.histplot(df['Order_Amount'])\n",
    "plt.title(\"distibustion of Order_Amount\")\n",
    "plt.xlabel(\"Order_Amount\")\n",
    "plt.ylabel(\"frequency\")\n",
    "plt.show()"
   ]
  },
  {
   "cell_type": "code",
   "execution_count": 87,
   "id": "6d60e219-cb7c-4cf9-90af-22c0232338de",
   "metadata": {},
   "outputs": [
    {
     "data": {
      "image/png": "[encoded data removed]",
      "text/plain": [
       "<Figure size 1000x600 with 1 Axes>"
      ]
     },
     "metadata": {},
     "output_type": "display_data"
    }
   ],
   "source": [
    "plt.figure(figsize=(10,6))\n",
    "sns.kdeplot(df['Order_Amount'])\n",
    "plt.title(\"distribution of Order_Amount\")\n",
    "plt.xlabel(\"Order_Amount\")\n",
    "plt.ylabel(\"Density\")\n",
    "plt.show()"
   ]
  },
  {
   "cell_type": "code",
   "execution_count": 89,
   "id": "2d9ea4a4-3748-43e7-8e85-71efb84927bd",
   "metadata": {},
   "outputs": [
    {
     "data": {
      "image/png": "[encoded data removed]",
      "text/plain": [
       "<Figure size 1000x800 with 1 Axes>"
      ]
     },
     "metadata": {},
     "output_type": "display_data"
    }
   ],
   "source": [
    "plt.figure(figsize=(10,8))\n",
    "sns.histplot(df[\"Order_Amount\"],kde=True)\n",
    "plt.title(\"distribution of Order_Amount\")\n",
    "plt.xlabel(\"Order_Amount\")\n",
    "plt.ylabel(\"Frequency\")\n",
    "plt.show()"
   ]
  },
  {
   "cell_type": "code",
   "execution_count": 91,
   "id": "9821a18d-4d67-496e-aad9-5e5db1563be4",
   "metadata": {},
   "outputs": [
    {
     "data": {
      "image/png": "[encoded data removed]",
      "text/plain": [
       "<Figure size 1400x1000 with 1 Axes>"
      ]
     },
     "metadata": {},
     "output_type": "display_data"
    }
   ],
   "source": [
    "numerical_columns = ['Order_Amount']\n",
    "plt.figure(figsize=(14, 10))\n",
    "for i, column in enumerate(numerical_columns, 1):\n",
    "    plt.subplot(2, 3, i)  # 2 rows, 3 columns for the subplots\n",
    "    sns.histplot(df[column], kde=True)\n",
    "    plt.title(f'Distribution of {column}')\n",
    "    plt.tight_layout()\n",
    "plt.show()"
   ]
  },
  {
   "cell_type": "code",
   "execution_count": 93,
   "id": "5b2b8f78-0b99-4cd2-9642-01ab55443d19",
   "metadata": {},
   "outputs": [
    {
     "data": {
      "image/png": "[encoded data removed]",
      "text/plain": [
       "<Figure size 1000x600 with 3 Axes>"
      ]
     },
     "metadata": {},
     "output_type": "display_data"
    }
   ],
   "source": [
    "categorical_columns = ['Customer_ID','Order_ID','Order_Date']\n",
    "\n",
    "plt.figure(figsize=(10, 6))\n",
    "for i, column in enumerate(categorical_columns, 1):\n",
    "    plt.subplot(1, 3, i)  # 1 row, 3 columns for the subplots\n",
    "    sns.countplot(x=df[column])\n",
    "    plt.title(f'Countplot of {column}')\n",
    "    plt.tight_layout()\n",
    "plt.show()"
   ]
  },
  {
   "cell_type": "code",
   "execution_count": 96,
   "id": "f67da0fe-98b1-412e-87eb-1f5a891121e8",
   "metadata": {},
   "outputs": [
    {
     "data": {
      "image/png": "[encoded data removed]",
      "text/plain": [
       "<Figure size 1000x600 with 1 Axes>"
      ]
     },
     "metadata": {},
     "output_type": "display_data"
    }
   ],
   "source": [
    "plt.figure(figsize=(10, 6))\n",
    "sns.scatterplot(x=df['Customer_ID'], y=df['Order_Amount'])\n",
    "plt.title('Order_Amount vs Customer_ID')\n",
    "plt.xlabel('Customer_ID')\n",
    "plt.ylabel('Order_Amount')\n",
    "plt.show()"
   ]
  },
  {
   "cell_type": "code",
   "execution_count": 98,
   "id": "39abf395-266f-4e72-83c1-cbe5559c255b",
   "metadata": {},
   "outputs": [
    {
     "data": {
      "text/plain": [
       "<Axes: xlabel='Customer_ID', ylabel='Order_Amount'>"
      ]
     },
     "execution_count": 98,
     "metadata": {},
     "output_type": "execute_result"
    },
    {
     "data": {
      "image/png": "[encoded data removed]",
      "text/plain": [
       "<Figure size 640x480 with 1 Axes>"
      ]
     },
     "metadata": {},
     "output_type": "display_data"
    }
   ],
   "source": [
    "sns.barplot(data=df,x=\"Customer_ID\",y=\"Order_Amount\")"
   ]
  },
  {
   "cell_type": "code",
   "execution_count": 7,
   "id": "4cfb3322-7dc2-4c36-80bf-cfe64dab546a",
   "metadata": {},
   "outputs": [],
   "source": [
    "df[\"Order_Date\"] = pd.to_datetime(df[\"Order_Date\"])"
   ]
  },
  {
   "cell_type": "code",
   "execution_count": 17,
   "id": "c3fb08af-cad3-4cad-8b08-f218c1b01384",
   "metadata": {},
   "outputs": [],
   "source": [
    "customer_data = df.groupby(\"Customer_ID\").agg(\n",
    "    Total_Spent=(\"Order_Amount\", \"sum\"),\n",
    "    Total_Orders=(\"Order_ID\", \"count\"),\n",
    "    First_Purchase=(\"Order_Date\", \"min\"),\n",
    "    Last_Purchase=(\"Order_Date\", \"max\")\n",
    ").reset_index()"
   ]
  },
  {
   "cell_type": "code",
   "execution_count": 19,
   "id": "63c7a391-ab98-4db9-b44a-287eac63e294",
   "metadata": {},
   "outputs": [
    {
     "data": {
      "text/html": [
       "<div>\n",
       "<style scoped>\n",
       "    .dataframe tbody tr th:only-of-type {\n",
       "        vertical-align: middle;\n",
       "    }\n",
       "\n",
       "    .dataframe tbody tr th {\n",
       "        vertical-align: top;\n",
       "    }\n",
       "\n",
       "    .dataframe thead th {\n",
       "        text-align: right;\n",
       "    }\n",
       "</style>\n",
       "<table border=\"1\" class=\"dataframe\">\n",
       "  <thead>\n",
       "    <tr style=\"text-align: right;\">\n",
       "      <th></th>\n",
       "      <th>Customer_ID</th>\n",
       "      <th>Total_Spent</th>\n",
       "      <th>Total_Orders</th>\n",
       "      <th>First_Purchase</th>\n",
       "      <th>Last_Purchase</th>\n",
       "    </tr>\n",
       "  </thead>\n",
       "  <tbody>\n",
       "    <tr>\n",
       "      <th>0</th>\n",
       "      <td>C001</td>\n",
       "      <td>500</td>\n",
       "      <td>2</td>\n",
       "      <td>2024-01-10</td>\n",
       "      <td>2024-03-15</td>\n",
       "    </tr>\n",
       "    <tr>\n",
       "      <th>1</th>\n",
       "      <td>C002</td>\n",
       "      <td>400</td>\n",
       "      <td>2</td>\n",
       "      <td>2024-01-20</td>\n",
       "      <td>2024-02-20</td>\n",
       "    </tr>\n",
       "    <tr>\n",
       "      <th>2</th>\n",
       "      <td>C003</td>\n",
       "      <td>400</td>\n",
       "      <td>1</td>\n",
       "      <td>2024-03-01</td>\n",
       "      <td>2024-03-01</td>\n",
       "    </tr>\n",
       "    <tr>\n",
       "      <th>3</th>\n",
       "      <td>C004</td>\n",
       "      <td>350</td>\n",
       "      <td>3</td>\n",
       "      <td>2024-01-05</td>\n",
       "      <td>2024-03-01</td>\n",
       "    </tr>\n",
       "    <tr>\n",
       "      <th>4</th>\n",
       "      <td>C005</td>\n",
       "      <td>350</td>\n",
       "      <td>2</td>\n",
       "      <td>2024-02-01</td>\n",
       "      <td>2024-03-10</td>\n",
       "    </tr>\n",
       "  </tbody>\n",
       "</table>\n",
       "</div>"
      ],
      "text/plain": [
       "  Customer_ID  Total_Spent  Total_Orders First_Purchase Last_Purchase\n",
       "0        C001          500             2     2024-01-10    2024-03-15\n",
       "1        C002          400             2     2024-01-20    2024-02-20\n",
       "2        C003          400             1     2024-03-01    2024-03-01\n",
       "3        C004          350             3     2024-01-05    2024-03-01\n",
       "4        C005          350             2     2024-02-01    2024-03-10"
      ]
     },
     "execution_count": 19,
     "metadata": {},
     "output_type": "execute_result"
    }
   ],
   "source": [
    "customer_data"
   ]
  },
  {
   "cell_type": "markdown",
   "id": "04144e4d-e912-4fbd-9006-f2f0947f6db8",
   "metadata": {},
   "source": [
    "# FEATURE ENGINEERING"
   ]
  },
  {
   "cell_type": "code",
   "execution_count": 21,
   "id": "3d211021-5347-4c92-93e2-54507844385f",
   "metadata": {},
   "outputs": [],
   "source": [
    "customer_data[\"Recency\"] = (pd.Timestamp(\"2025-05-19\") - customer_data[\"Last_Purchase\"]).dt.days\n",
    "customer_data[\"Tenure\"] = (customer_data[\"Last_Purchase\"] - customer_data[\"First_Purchase\"]).dt.days\n",
    "customer_data[\"AOV\"] = customer_data[\"Total_Spent\"] / customer_data[\"Total_Orders\"]"
   ]
  },
  {
   "cell_type": "code",
   "execution_count": 23,
   "id": "85024c5d-c927-45ad-9d36-dd8272b74c0e",
   "metadata": {},
   "outputs": [
    {
     "data": {
      "text/html": [
       "<div>\n",
       "<style scoped>\n",
       "    .dataframe tbody tr th:only-of-type {\n",
       "        vertical-align: middle;\n",
       "    }\n",
       "\n",
       "    .dataframe tbody tr th {\n",
       "        vertical-align: top;\n",
       "    }\n",
       "\n",
       "    .dataframe thead th {\n",
       "        text-align: right;\n",
       "    }\n",
       "</style>\n",
       "<table border=\"1\" class=\"dataframe\">\n",
       "  <thead>\n",
       "    <tr style=\"text-align: right;\">\n",
       "      <th></th>\n",
       "      <th>Customer_ID</th>\n",
       "      <th>Total_Spent</th>\n",
       "      <th>Total_Orders</th>\n",
       "      <th>First_Purchase</th>\n",
       "      <th>Last_Purchase</th>\n",
       "      <th>Recency</th>\n",
       "      <th>Tenure</th>\n",
       "      <th>AOV</th>\n",
       "    </tr>\n",
       "  </thead>\n",
       "  <tbody>\n",
       "    <tr>\n",
       "      <th>0</th>\n",
       "      <td>C001</td>\n",
       "      <td>500</td>\n",
       "      <td>2</td>\n",
       "      <td>2024-01-10</td>\n",
       "      <td>2024-03-15</td>\n",
       "      <td>430</td>\n",
       "      <td>65</td>\n",
       "      <td>250.000000</td>\n",
       "    </tr>\n",
       "    <tr>\n",
       "      <th>1</th>\n",
       "      <td>C002</td>\n",
       "      <td>400</td>\n",
       "      <td>2</td>\n",
       "      <td>2024-01-20</td>\n",
       "      <td>2024-02-20</td>\n",
       "      <td>454</td>\n",
       "      <td>31</td>\n",
       "      <td>200.000000</td>\n",
       "    </tr>\n",
       "    <tr>\n",
       "      <th>2</th>\n",
       "      <td>C003</td>\n",
       "      <td>400</td>\n",
       "      <td>1</td>\n",
       "      <td>2024-03-01</td>\n",
       "      <td>2024-03-01</td>\n",
       "      <td>444</td>\n",
       "      <td>0</td>\n",
       "      <td>400.000000</td>\n",
       "    </tr>\n",
       "    <tr>\n",
       "      <th>3</th>\n",
       "      <td>C004</td>\n",
       "      <td>350</td>\n",
       "      <td>3</td>\n",
       "      <td>2024-01-05</td>\n",
       "      <td>2024-03-01</td>\n",
       "      <td>444</td>\n",
       "      <td>56</td>\n",
       "      <td>116.666667</td>\n",
       "    </tr>\n",
       "    <tr>\n",
       "      <th>4</th>\n",
       "      <td>C005</td>\n",
       "      <td>350</td>\n",
       "      <td>2</td>\n",
       "      <td>2024-02-01</td>\n",
       "      <td>2024-03-10</td>\n",
       "      <td>435</td>\n",
       "      <td>38</td>\n",
       "      <td>175.000000</td>\n",
       "    </tr>\n",
       "  </tbody>\n",
       "</table>\n",
       "</div>"
      ],
      "text/plain": [
       "  Customer_ID  Total_Spent  Total_Orders First_Purchase Last_Purchase  \\\n",
       "0        C001          500             2     2024-01-10    2024-03-15   \n",
       "1        C002          400             2     2024-01-20    2024-02-20   \n",
       "2        C003          400             1     2024-03-01    2024-03-01   \n",
       "3        C004          350             3     2024-01-05    2024-03-01   \n",
       "4        C005          350             2     2024-02-01    2024-03-10   \n",
       "\n",
       "   Recency  Tenure         AOV  \n",
       "0      430      65  250.000000  \n",
       "1      454      31  200.000000  \n",
       "2      444       0  400.000000  \n",
       "3      444      56  116.666667  \n",
       "4      435      38  175.000000  "
      ]
     },
     "execution_count": 23,
     "metadata": {},
     "output_type": "execute_result"
    }
   ],
   "source": [
    "customer_data"
   ]
  },
  {
   "cell_type": "code",
   "execution_count": 25,
   "id": "fadbee55-fdf9-4958-bc99-544c6d696b85",
   "metadata": {},
   "outputs": [],
   "source": [
    "X = customer_data[[\"Total_Orders\", \"Recency\", \"Tenure\", \"AOV\"]]\n",
    "y = customer_data[\"Total_Spent\"]"
   ]
  },
  {
   "cell_type": "markdown",
   "id": "ec480acd-7f09-49c9-b1e3-a202795c7aa4",
   "metadata": {},
   "source": [
    "# SPLIT DATA"
   ]
  },
  {
   "cell_type": "code",
   "execution_count": 149,
   "id": "b44a3677-a5f2-4f38-b691-aee5e0e3a0b2",
   "metadata": {},
   "outputs": [],
   "source": [
    "X_train, X_test, y_train, y_test = train_test_split(X, y, test_size=0.2, random_state=42)"
   ]
  },
  {
   "cell_type": "code",
   "execution_count": 151,
   "id": "780db554-cd8a-4d47-b49b-84f962a2f1c1",
   "metadata": {},
   "outputs": [
    {
     "name": "stdout",
     "output_type": "stream",
     "text": [
      "X_train samples: 4\n",
      "y_train samples: 4\n"
     ]
    }
   ],
   "source": [
    "print(f\"X_train samples: {X_train.shape[0]}\")\n",
    "print(f\"y_train samples: {y_train.shape[0]}\")\n"
   ]
  },
  {
   "cell_type": "code",
   "execution_count": 153,
   "id": "91ed28d0-4e17-4952-9fea-7a77d2779296",
   "metadata": {},
   "outputs": [
    {
     "name": "stdout",
     "output_type": "stream",
     "text": [
      "X_test samples: 4\n",
      "y_test samples: 4\n"
     ]
    }
   ],
   "source": [
    "print(f\"X_test samples: {X_train.shape[0]}\")\n",
    "print(f\"y_test samples: {y_train.shape[0]}\")\n"
   ]
  },
  {
   "cell_type": "code",
   "execution_count": 155,
   "id": "4fe1d664-64f0-40b4-95f3-ef618843b365",
   "metadata": {},
   "outputs": [
    {
     "name": "stdout",
     "output_type": "stream",
     "text": [
      "(4, 4)\n",
      "(1, 4)\n",
      "(4,)\n",
      "(1, 4)\n"
     ]
    }
   ],
   "source": [
    "print(X_train.shape)\n",
    "print(X_test.shape)\n",
    "print(y_train.shape)\n",
    "print(X_test.shape)"
   ]
  },
  {
   "cell_type": "markdown",
   "id": "6757b919-2997-4b17-ba7c-9002aa33b09c",
   "metadata": {},
   "source": [
    "# TRAIN THE MODEL"
   ]
  },
  {
   "cell_type": "code",
   "execution_count": 157,
   "id": "c6a74acc-3fe3-49b0-a733-924b21c67402",
   "metadata": {},
   "outputs": [],
   "source": [
    "lr_model = LinearRegression()\n",
    "lr_model.fit(X_train, y_train)\n",
    "y_pred_lr = lr_model.predict(X_test)\n",
    "\n",
    "mae_lr = mean_absolute_error(y_test, y_pred_lr)\n",
    "rmse_lr = np.sqrt(mean_squared_error(y_test, y_pred_lr))\n"
   ]
  },
  {
   "cell_type": "code",
   "execution_count": 159,
   "id": "36b2fead-40ad-4e8b-a225-c03f3b6a0a0c",
   "metadata": {},
   "outputs": [
    {
     "name": "stdout",
     "output_type": "stream",
     "text": [
      "Linear Regression - MAE: 73.16795356754693, RMSE: 73.16795356754693\n"
     ]
    }
   ],
   "source": [
    "print(f\"Linear Regression - MAE: {mae_lr}, RMSE: {rmse_lr}\")\n"
   ]
  },
  {
   "cell_type": "code",
   "execution_count": 161,
   "id": "4694b8e1-7b2e-4c7b-b36b-b0c77d0893f9",
   "metadata": {},
   "outputs": [],
   "source": [
    "rf_model = RandomForestRegressor(n_estimators=100, random_state=42)\n",
    "rf_model.fit(X_train, y_train)\n",
    "y_pred_rf = rf_model.predict(X_test)\n",
    "\n",
    "mae_rf = mean_absolute_error(y_test, y_pred_rf)\n",
    "rmse_rf = np.sqrt(mean_squared_error(y_test, y_pred_rf))"
   ]
  },
  {
   "cell_type": "code",
   "execution_count": 163,
   "id": "ee8cae50-fa4f-485c-b647-e87bc2424987",
   "metadata": {},
   "outputs": [
    {
     "name": "stdout",
     "output_type": "stream",
     "text": [
      "Random Forest - MAE: 34.0, RMSE: 34.0\n"
     ]
    }
   ],
   "source": [
    "print(f\"Random Forest - MAE: {mae_rf}, RMSE: {rmse_rf}\")"
   ]
  },
  {
   "cell_type": "markdown",
   "id": "0973e038-2c63-4931-a0cb-77e39aa30fb6",
   "metadata": {},
   "source": [
    "# XGBoost Evaluate"
   ]
  },
  {
   "cell_type": "code",
   "execution_count": 165,
   "id": "e9f21e54-3cc9-4a5d-837b-1eb177808637",
   "metadata": {},
   "outputs": [],
   "source": [
    "xgb_model = XGBRegressor()\n",
    "xgb_model.fit(X_train, y_train)\n",
    "y_pred_xgb = xgb_model.predict(X_test)\n",
    "\n",
    "mae_xgb = mean_absolute_error(y_test, y_pred_xgb)\n",
    "rmse_xgb = np.sqrt(mean_squared_error(y_test, y_pred_xgb))\n"
   ]
  },
  {
   "cell_type": "code",
   "execution_count": 167,
   "id": "5a4d224e-c995-4c74-9c09-ada633af55ea",
   "metadata": {},
   "outputs": [
    {
     "name": "stdout",
     "output_type": "stream",
     "text": [
      "XGBoost - MAE: 49.999542236328125, RMSE: 49.999542236328125\n"
     ]
    }
   ],
   "source": [
    "print(f\"XGBoost - MAE: {mae_xgb}, RMSE: {rmse_xgb}\")"
   ]
  },
  {
   "cell_type": "markdown",
   "id": "4490117e-0aaa-477f-ab44-1fd1d61f203d",
   "metadata": {},
   "source": [
    "# Predict LTV"
   ]
  },
  {
   "cell_type": "code",
   "execution_count": 169,
   "id": "643f0811-4fc8-49c9-b63d-3ee906873340",
   "metadata": {},
   "outputs": [
    {
     "name": "stdout",
     "output_type": "stream",
     "text": [
      "  Customer_ID  Predicted_LTV Segment\n",
      "0        C001     499.998810  Medium\n",
      "1        C002     350.000458  Medium\n",
      "2        C003     400.000031  Medium\n",
      "3        C004     350.000458  Medium\n",
      "4        C005     350.000458  Medium\n"
     ]
    }
   ],
   "source": [
    "customer_data[\"Predicted_LTV\"] = xgb_model.predict(X)\n",
    "\n",
    "# Define segments\n",
    "customer_data[\"Segment\"] = pd.cut(customer_data[\"Predicted_LTV\"],\n",
    "                                  bins=[0, 300, 600, float(\"inf\")],\n",
    "                                  labels=[\"Low\", \"Medium\", \"High\"])\n",
    "\n",
    "print(customer_data[[\"Customer_ID\", \"Predicted_LTV\", \"Segment\"]])"
   ]
  },
  {
   "cell_type": "markdown",
   "id": "c0e8a8e1-6070-4ca3-8824-57272abe0130",
   "metadata": {},
   "source": [
    "# PLOTING"
   ]
  },
  {
   "cell_type": "code",
   "execution_count": 181,
   "id": "b4beaa3b-2bc7-45b1-9c62-bfd1e9838a9b",
   "metadata": {},
   "outputs": [
    {
     "data": {
      "image/png": "[encoded data removed]",
      "text/plain": [
       "<Figure size 800x500 with 1 Axes>"
      ]
     },
     "metadata": {},
     "output_type": "display_data"
    }
   ],
   "source": [
    "plt.figure(figsize=(8, 5))\n",
    "sns.barplot(x= xgb_model.feature_importances_, y=X.columns)\n",
    "plt.xlabel(\"Feature Importance\")\n",
    "plt.ylabel(\"Features\")\n",
    "plt.title(\"Importance of Features in LTV Prediction\")\n",
    "plt.show()"
   ]
  },
  {
   "cell_type": "code",
   "execution_count": 185,
   "id": "b74b87ef-0c78-454d-b6c4-5995ab0a9eda",
   "metadata": {},
   "outputs": [
    {
     "data": {
      "image/png": "[encoded data removed]",
      "text/plain": [
       "<Figure size 800x500 with 1 Axes>"
      ]
     },
     "metadata": {},
     "output_type": "display_data"
    }
   ],
   "source": [
    "plt.figure(figsize=(8, 5))\n",
    "sns.scatterplot(x=y_test, y=y_pred_xgb)\n",
    "plt.plot([y_test.min(), y_test.max()], [y_test.min(), y_test.max()], 'r--')  # Ideal predictions line\n",
    "plt.xlabel(\"Actual LTV\")\n",
    "plt.ylabel(\"Predicted LTV\")\n",
    "plt.title(\"Predicted vs Actual Customer LTV\")\n",
    "plt.show()"
   ]
  },
  {
   "cell_type": "code",
   "execution_count": null,
   "id": "f21b44f1-3faf-4a3d-b563-d3b4abe50fa3",
   "metadata": {},
   "outputs": [],
   "source": []
  }
 ],
 "metadata": {
  "kernelspec": {
   "display_name": "Python [conda env:base] *",
   "language": "python",
   "name": "conda-base-py"
  },
  "language_info": {
   "codemirror_mode": {
    "name": "ipython",
    "version": 3
   },
   "file_extension": ".py",
   "mimetype": "text/x-python",
   "name": "python",
   "nbconvert_exporter": "python",
   "pygments_lexer": "ipython3",
   "version": "3.12.7"
  }
 },
 "nbformat": 4,
 "nbformat_minor": 5
}
